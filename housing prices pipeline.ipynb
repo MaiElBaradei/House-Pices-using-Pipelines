{
 "cells": [
  {
   "cell_type": "markdown",
   "id": "55b5e2ce",
   "metadata": {
    "papermill": {
     "duration": 0.01073,
     "end_time": "2021-11-25T11:45:49.548655",
     "exception": false,
     "start_time": "2021-11-25T11:45:49.537925",
     "status": "completed"
    },
    "tags": []
   },
   "source": [
    "This data is from the [Housing Prices Competition for Kaggle Learn Users](https://www.kaggle.com/c/home-data-for-ml-course). \n",
    "\n",
    "Load the training and validation sets in `X_train`, `X_valid`, `y_train`, and `y_valid`.  The test set is loaded in `X_test`."
   ]
  },
  {
   "cell_type": "code",
   "execution_count": 1,
   "id": "d5930aa8",
   "metadata": {
    "execution": {
     "iopub.execute_input": "2021-11-25T11:45:49.574629Z",
     "iopub.status.busy": "2021-11-25T11:45:49.572801Z",
     "iopub.status.idle": "2021-11-25T11:45:50.590239Z",
     "shell.execute_reply": "2021-11-25T11:45:50.589498Z",
     "shell.execute_reply.started": "2021-11-25T11:31:20.284785Z"
    },
    "papermill": {
     "duration": 1.031291,
     "end_time": "2021-11-25T11:45:50.590416",
     "exception": false,
     "start_time": "2021-11-25T11:45:49.559125",
     "status": "completed"
    },
    "tags": []
   },
   "outputs": [],
   "source": [
    "import pandas as pd\n",
    "from sklearn.model_selection import train_test_split\n",
    "\n",
    "# Read the data\n",
    "X_full = pd.read_csv('../input/train.csv', index_col='Id')\n",
    "X_test_full = pd.read_csv('../input/test.csv', index_col='Id')\n",
    "\n",
    "# Remove rows with missing target, separate target from predictors\n",
    "X_full.dropna(axis=0, subset=['SalePrice'], inplace=True)\n",
    "y = X_full.SalePrice\n",
    "X_full.drop(['SalePrice'], axis=1, inplace=True)\n",
    "\n",
    "# Break off validation set from training data\n",
    "X_train_full, X_valid_full, y_train, y_valid = train_test_split(X_full, y, \n",
    "                                                                train_size=0.8, test_size=0.2,\n",
    "                                                                random_state=0)\n",
    "\n",
    "# \"Cardinality\" means the number of unique values in a column\n",
    "# Select categorical columns with relatively low cardinality (convenient but arbitrary)\n",
    "categorical_cols = [cname for cname in X_train_full.columns if\n",
    "                    X_train_full[cname].nunique() < 10 and \n",
    "                    X_train_full[cname].dtype == \"object\"]\n",
    "\n",
    "# Select numerical columns\n",
    "numerical_cols = [cname for cname in X_train_full.columns if \n",
    "                X_train_full[cname].dtype in ['int64', 'float64']]\n",
    "\n",
    "# Keep selected columns only\n",
    "my_cols = categorical_cols + numerical_cols\n",
    "X_train = X_train_full[my_cols].copy()\n",
    "X_valid = X_valid_full[my_cols].copy()\n",
    "X_test = X_test_full[my_cols].copy()"
   ]
  },
  {
   "cell_type": "code",
   "execution_count": 2,
   "id": "4f0d8408",
   "metadata": {
    "execution": {
     "iopub.execute_input": "2021-11-25T11:45:50.616639Z",
     "iopub.status.busy": "2021-11-25T11:45:50.615610Z",
     "iopub.status.idle": "2021-11-25T11:45:50.637589Z",
     "shell.execute_reply": "2021-11-25T11:45:50.637075Z",
     "shell.execute_reply.started": "2021-11-25T11:31:21.387494Z"
    },
    "papermill": {
     "duration": 0.038534,
     "end_time": "2021-11-25T11:45:50.637732",
     "exception": false,
     "start_time": "2021-11-25T11:45:50.599198",
     "status": "completed"
    },
    "tags": []
   },
   "outputs": [
    {
     "data": {
      "text/html": [
       "<div>\n",
       "<style scoped>\n",
       "    .dataframe tbody tr th:only-of-type {\n",
       "        vertical-align: middle;\n",
       "    }\n",
       "\n",
       "    .dataframe tbody tr th {\n",
       "        vertical-align: top;\n",
       "    }\n",
       "\n",
       "    .dataframe thead th {\n",
       "        text-align: right;\n",
       "    }\n",
       "</style>\n",
       "<table border=\"1\" class=\"dataframe\">\n",
       "  <thead>\n",
       "    <tr style=\"text-align: right;\">\n",
       "      <th></th>\n",
       "      <th>MSZoning</th>\n",
       "      <th>Street</th>\n",
       "      <th>Alley</th>\n",
       "      <th>LotShape</th>\n",
       "      <th>LandContour</th>\n",
       "      <th>Utilities</th>\n",
       "      <th>LotConfig</th>\n",
       "      <th>LandSlope</th>\n",
       "      <th>Condition1</th>\n",
       "      <th>Condition2</th>\n",
       "      <th>...</th>\n",
       "      <th>GarageArea</th>\n",
       "      <th>WoodDeckSF</th>\n",
       "      <th>OpenPorchSF</th>\n",
       "      <th>EnclosedPorch</th>\n",
       "      <th>3SsnPorch</th>\n",
       "      <th>ScreenPorch</th>\n",
       "      <th>PoolArea</th>\n",
       "      <th>MiscVal</th>\n",
       "      <th>MoSold</th>\n",
       "      <th>YrSold</th>\n",
       "    </tr>\n",
       "    <tr>\n",
       "      <th>Id</th>\n",
       "      <th></th>\n",
       "      <th></th>\n",
       "      <th></th>\n",
       "      <th></th>\n",
       "      <th></th>\n",
       "      <th></th>\n",
       "      <th></th>\n",
       "      <th></th>\n",
       "      <th></th>\n",
       "      <th></th>\n",
       "      <th></th>\n",
       "      <th></th>\n",
       "      <th></th>\n",
       "      <th></th>\n",
       "      <th></th>\n",
       "      <th></th>\n",
       "      <th></th>\n",
       "      <th></th>\n",
       "      <th></th>\n",
       "      <th></th>\n",
       "      <th></th>\n",
       "    </tr>\n",
       "  </thead>\n",
       "  <tbody>\n",
       "    <tr>\n",
       "      <th>619</th>\n",
       "      <td>RL</td>\n",
       "      <td>Pave</td>\n",
       "      <td>NaN</td>\n",
       "      <td>Reg</td>\n",
       "      <td>Lvl</td>\n",
       "      <td>AllPub</td>\n",
       "      <td>Inside</td>\n",
       "      <td>Gtl</td>\n",
       "      <td>Norm</td>\n",
       "      <td>Norm</td>\n",
       "      <td>...</td>\n",
       "      <td>774</td>\n",
       "      <td>0</td>\n",
       "      <td>108</td>\n",
       "      <td>0</td>\n",
       "      <td>0</td>\n",
       "      <td>260</td>\n",
       "      <td>0</td>\n",
       "      <td>0</td>\n",
       "      <td>7</td>\n",
       "      <td>2007</td>\n",
       "    </tr>\n",
       "    <tr>\n",
       "      <th>871</th>\n",
       "      <td>RL</td>\n",
       "      <td>Pave</td>\n",
       "      <td>NaN</td>\n",
       "      <td>Reg</td>\n",
       "      <td>Lvl</td>\n",
       "      <td>AllPub</td>\n",
       "      <td>Inside</td>\n",
       "      <td>Gtl</td>\n",
       "      <td>PosN</td>\n",
       "      <td>Norm</td>\n",
       "      <td>...</td>\n",
       "      <td>308</td>\n",
       "      <td>0</td>\n",
       "      <td>0</td>\n",
       "      <td>0</td>\n",
       "      <td>0</td>\n",
       "      <td>0</td>\n",
       "      <td>0</td>\n",
       "      <td>0</td>\n",
       "      <td>8</td>\n",
       "      <td>2009</td>\n",
       "    </tr>\n",
       "    <tr>\n",
       "      <th>93</th>\n",
       "      <td>RL</td>\n",
       "      <td>Pave</td>\n",
       "      <td>Grvl</td>\n",
       "      <td>IR1</td>\n",
       "      <td>HLS</td>\n",
       "      <td>AllPub</td>\n",
       "      <td>Inside</td>\n",
       "      <td>Gtl</td>\n",
       "      <td>Norm</td>\n",
       "      <td>Norm</td>\n",
       "      <td>...</td>\n",
       "      <td>432</td>\n",
       "      <td>0</td>\n",
       "      <td>0</td>\n",
       "      <td>44</td>\n",
       "      <td>0</td>\n",
       "      <td>0</td>\n",
       "      <td>0</td>\n",
       "      <td>0</td>\n",
       "      <td>8</td>\n",
       "      <td>2009</td>\n",
       "    </tr>\n",
       "    <tr>\n",
       "      <th>818</th>\n",
       "      <td>RL</td>\n",
       "      <td>Pave</td>\n",
       "      <td>NaN</td>\n",
       "      <td>IR1</td>\n",
       "      <td>Lvl</td>\n",
       "      <td>AllPub</td>\n",
       "      <td>CulDSac</td>\n",
       "      <td>Gtl</td>\n",
       "      <td>Norm</td>\n",
       "      <td>Norm</td>\n",
       "      <td>...</td>\n",
       "      <td>857</td>\n",
       "      <td>150</td>\n",
       "      <td>59</td>\n",
       "      <td>0</td>\n",
       "      <td>0</td>\n",
       "      <td>0</td>\n",
       "      <td>0</td>\n",
       "      <td>0</td>\n",
       "      <td>7</td>\n",
       "      <td>2008</td>\n",
       "    </tr>\n",
       "    <tr>\n",
       "      <th>303</th>\n",
       "      <td>RL</td>\n",
       "      <td>Pave</td>\n",
       "      <td>NaN</td>\n",
       "      <td>IR1</td>\n",
       "      <td>Lvl</td>\n",
       "      <td>AllPub</td>\n",
       "      <td>Corner</td>\n",
       "      <td>Gtl</td>\n",
       "      <td>Norm</td>\n",
       "      <td>Norm</td>\n",
       "      <td>...</td>\n",
       "      <td>843</td>\n",
       "      <td>468</td>\n",
       "      <td>81</td>\n",
       "      <td>0</td>\n",
       "      <td>0</td>\n",
       "      <td>0</td>\n",
       "      <td>0</td>\n",
       "      <td>0</td>\n",
       "      <td>1</td>\n",
       "      <td>2006</td>\n",
       "    </tr>\n",
       "  </tbody>\n",
       "</table>\n",
       "<p>5 rows × 76 columns</p>\n",
       "</div>"
      ],
      "text/plain": [
       "    MSZoning Street Alley LotShape LandContour Utilities LotConfig LandSlope  \\\n",
       "Id                                                                             \n",
       "619       RL   Pave   NaN      Reg         Lvl    AllPub    Inside       Gtl   \n",
       "871       RL   Pave   NaN      Reg         Lvl    AllPub    Inside       Gtl   \n",
       "93        RL   Pave  Grvl      IR1         HLS    AllPub    Inside       Gtl   \n",
       "818       RL   Pave   NaN      IR1         Lvl    AllPub   CulDSac       Gtl   \n",
       "303       RL   Pave   NaN      IR1         Lvl    AllPub    Corner       Gtl   \n",
       "\n",
       "    Condition1 Condition2  ... GarageArea WoodDeckSF OpenPorchSF  \\\n",
       "Id                         ...                                     \n",
       "619       Norm       Norm  ...        774          0         108   \n",
       "871       PosN       Norm  ...        308          0           0   \n",
       "93        Norm       Norm  ...        432          0           0   \n",
       "818       Norm       Norm  ...        857        150          59   \n",
       "303       Norm       Norm  ...        843        468          81   \n",
       "\n",
       "    EnclosedPorch 3SsnPorch ScreenPorch PoolArea MiscVal MoSold YrSold  \n",
       "Id                                                                      \n",
       "619             0         0         260        0       0      7   2007  \n",
       "871             0         0           0        0       0      8   2009  \n",
       "93             44         0           0        0       0      8   2009  \n",
       "818             0         0           0        0       0      7   2008  \n",
       "303             0         0           0        0       0      1   2006  \n",
       "\n",
       "[5 rows x 76 columns]"
      ]
     },
     "execution_count": 2,
     "metadata": {},
     "output_type": "execute_result"
    }
   ],
   "source": [
    "X_train.head()"
   ]
  },
  {
   "cell_type": "markdown",
   "id": "d61ea42e",
   "metadata": {
    "papermill": {
     "duration": 0.009084,
     "end_time": "2021-11-25T11:45:50.658590",
     "exception": false,
     "start_time": "2021-11-25T11:45:50.649506",
     "status": "completed"
    },
    "tags": []
   },
   "source": [
    "# Preprocessing the data and defining a model"
   ]
  },
  {
   "cell_type": "code",
   "execution_count": 3,
   "id": "a9ff3551",
   "metadata": {
    "execution": {
     "iopub.execute_input": "2021-11-25T11:45:50.680986Z",
     "iopub.status.busy": "2021-11-25T11:45:50.680341Z",
     "iopub.status.idle": "2021-11-25T11:45:50.982865Z",
     "shell.execute_reply": "2021-11-25T11:45:50.982204Z",
     "shell.execute_reply.started": "2021-11-25T11:32:22.490148Z"
    },
    "papermill": {
     "duration": 0.315213,
     "end_time": "2021-11-25T11:45:50.983027",
     "exception": false,
     "start_time": "2021-11-25T11:45:50.667814",
     "status": "completed"
    },
    "tags": []
   },
   "outputs": [],
   "source": [
    "from sklearn.compose import ColumnTransformer\n",
    "from sklearn.pipeline import Pipeline\n",
    "from sklearn.impute import SimpleImputer\n",
    "from sklearn.preprocessing import OneHotEncoder\n",
    "from sklearn.ensemble import RandomForestRegressor\n",
    "from sklearn.metrics import mean_absolute_error\n",
    "\n",
    "# Preprocessing for numerical data\n",
    "numerical_transformer = SimpleImputer(strategy='constant')\n",
    "\n",
    "# Preprocessing for categorical data\n",
    "#from sklearn.preprocessing import OrdinalEncoder\n",
    "categorical_transformer = Pipeline(steps=[('impute',SimpleImputer(strategy='constant')),('OH_encoder', OneHotEncoder(handle_unknown='ignore'))])# Your code here\n",
    "\n",
    "# Bundle preprocessing for numerical and categorical data\n",
    "preprocessor = ColumnTransformer(\n",
    "    transformers=[\n",
    "        ('num', numerical_transformer, numerical_cols),\n",
    "        ('cat', categorical_transformer, categorical_cols)\n",
    "    ])\n",
    "\n",
    "# Define model\n",
    "model = RandomForestRegressor(n_estimators=110,random_state=0)\n"
   ]
  },
  {
   "cell_type": "markdown",
   "id": "6c7192c4",
   "metadata": {
    "papermill": {
     "duration": 0.00922,
     "end_time": "2021-11-25T11:45:51.001866",
     "exception": false,
     "start_time": "2021-11-25T11:45:50.992646",
     "status": "completed"
    },
    "tags": []
   },
   "source": [
    "Having defined a pipeline, we'll now fit our model and evaluate"
   ]
  },
  {
   "cell_type": "code",
   "execution_count": 4,
   "id": "5589ba0f",
   "metadata": {
    "execution": {
     "iopub.execute_input": "2021-11-25T11:45:51.032436Z",
     "iopub.status.busy": "2021-11-25T11:45:51.031692Z",
     "iopub.status.idle": "2021-11-25T11:45:54.021995Z",
     "shell.execute_reply": "2021-11-25T11:45:54.021309Z",
     "shell.execute_reply.started": "2021-11-25T11:32:28.182990Z"
    },
    "papermill": {
     "duration": 3.010408,
     "end_time": "2021-11-25T11:45:54.022138",
     "exception": false,
     "start_time": "2021-11-25T11:45:51.011730",
     "status": "completed"
    },
    "tags": []
   },
   "outputs": [
    {
     "name": "stdout",
     "output_type": "stream",
     "text": [
      "MAE: 17509.434651307594\n"
     ]
    }
   ],
   "source": [
    "# Bundle preprocessing and modeling code in a pipeline\n",
    "my_pipeline = Pipeline(steps=[('preprocessor', preprocessor),\n",
    "                              ('model', model)\n",
    "                             ])\n",
    "\n",
    "# Preprocessing of training data, fit model \n",
    "my_pipeline.fit(X_train, y_train)\n",
    "\n",
    "# Preprocessing of validation data, get predictions\n",
    "preds = my_pipeline.predict(X_valid)\n",
    "\n",
    "# Evaluate the model\n",
    "score = mean_absolute_error(y_valid, preds)\n",
    "print('MAE:', score)\n"
   ]
  },
  {
   "cell_type": "markdown",
   "id": "faa5036e",
   "metadata": {
    "papermill": {
     "duration": 0.009639,
     "end_time": "2021-11-25T11:45:54.041705",
     "exception": false,
     "start_time": "2021-11-25T11:45:54.032066",
     "status": "completed"
    },
    "tags": []
   },
   "source": [
    "# Generate test predictions\n",
    "\n",
    "Now, we'll use your trained model to generate predictions with the test data."
   ]
  },
  {
   "cell_type": "code",
   "execution_count": 5,
   "id": "6ce0b99d",
   "metadata": {
    "execution": {
     "iopub.execute_input": "2021-11-25T11:45:54.070921Z",
     "iopub.status.busy": "2021-11-25T11:45:54.070171Z",
     "iopub.status.idle": "2021-11-25T11:45:54.149587Z",
     "shell.execute_reply": "2021-11-25T11:45:54.148926Z",
     "shell.execute_reply.started": "2021-11-25T11:32:38.903817Z"
    },
    "papermill": {
     "duration": 0.09776,
     "end_time": "2021-11-25T11:45:54.149764",
     "exception": false,
     "start_time": "2021-11-25T11:45:54.052004",
     "status": "completed"
    },
    "tags": []
   },
   "outputs": [],
   "source": [
    "# Preprocessing of test data, fit model\n",
    "preds_test = my_pipeline.predict(X_test)\n"
   ]
  },
  {
   "cell_type": "markdown",
   "id": "53c80b75",
   "metadata": {
    "papermill": {
     "duration": 0.009371,
     "end_time": "2021-11-25T11:45:54.169114",
     "exception": false,
     "start_time": "2021-11-25T11:45:54.159743",
     "status": "completed"
    },
    "tags": []
   },
   "source": [
    "Save our results to a CSV file."
   ]
  },
  {
   "cell_type": "code",
   "execution_count": 6,
   "id": "f8c80b5b",
   "metadata": {
    "execution": {
     "iopub.execute_input": "2021-11-25T11:45:54.195903Z",
     "iopub.status.busy": "2021-11-25T11:45:54.194881Z",
     "iopub.status.idle": "2021-11-25T11:45:54.204916Z",
     "shell.execute_reply": "2021-11-25T11:45:54.205457Z",
     "shell.execute_reply.started": "2021-11-25T11:35:06.514685Z"
    },
    "papermill": {
     "duration": 0.026873,
     "end_time": "2021-11-25T11:45:54.205639",
     "exception": false,
     "start_time": "2021-11-25T11:45:54.178766",
     "status": "completed"
    },
    "tags": []
   },
   "outputs": [],
   "source": [
    "# Save test predictions to file\n",
    "output = pd.DataFrame({'Id': X_test.index,\n",
    "                       'SalePrice': preds_test})\n",
    "output.to_csv('predictions.csv', index=False)"
   ]
  }
 ],
 "metadata": {
  "kernelspec": {
   "display_name": "Python 3",
   "language": "python",
   "name": "python3"
  },
  "language_info": {
   "codemirror_mode": {
    "name": "ipython",
    "version": 3
   },
   "file_extension": ".py",
   "mimetype": "text/x-python",
   "name": "python",
   "nbconvert_exporter": "python",
   "pygments_lexer": "ipython3",
   "version": "3.7.10"
  },
  "papermill": {
   "default_parameters": {},
   "duration": 14.202789,
   "end_time": "2021-11-25T11:45:54.824641",
   "environment_variables": {},
   "exception": null,
   "input_path": "__notebook__.ipynb",
   "output_path": "__notebook__.ipynb",
   "parameters": {},
   "start_time": "2021-11-25T11:45:40.621852",
   "version": "2.3.3"
  }
 },
 "nbformat": 4,
 "nbformat_minor": 5
}
