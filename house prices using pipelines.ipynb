{
 "cells": [
  {
   "cell_type": "markdown",
   "id": "5edfa10e",
   "metadata": {
    "papermill": {
     "duration": 0.008269,
     "end_time": "2021-11-25T11:35:50.435687",
     "exception": false,
     "start_time": "2021-11-25T11:35:50.427418",
     "status": "completed"
    },
    "tags": []
   },
   "source": [
    "This data is from the [Housing Prices Competition for Kaggle Learn Users](https://www.kaggle.com/c/home-data-for-ml-course). \n",
    "\n",
    "Load the training and validation sets in `X_train`, `X_valid`, `y_train`, and `y_valid`.  The test set is loaded in `X_test`."
   ]
  },
  {
   "cell_type": "code",
   "execution_count": 1,
   "id": "767e934f",
   "metadata": {
    "execution": {
     "iopub.execute_input": "2021-11-25T11:35:50.456178Z",
     "iopub.status.busy": "2021-11-25T11:35:50.454441Z",
     "iopub.status.idle": "2021-11-25T11:35:51.635166Z",
     "shell.execute_reply": "2021-11-25T11:35:51.635662Z",
     "shell.execute_reply.started": "2021-11-25T11:31:20.284785Z"
    },
    "papermill": {
     "duration": 1.192721,
     "end_time": "2021-11-25T11:35:51.635962",
     "exception": false,
     "start_time": "2021-11-25T11:35:50.443241",
     "status": "completed"
    },
    "tags": []
   },
   "outputs": [],
   "source": [
    "import pandas as pd\n",
    "from sklearn.model_selection import train_test_split\n",
    "\n",
    "# Read the data\n",
    "X_full = pd.read_csv('../input/train.csv', index_col='Id')\n",
    "X_test_full = pd.read_csv('../input/test.csv', index_col='Id')\n",
    "\n",
    "# Remove rows with missing target, separate target from predictors\n",
    "X_full.dropna(axis=0, subset=['SalePrice'], inplace=True)\n",
    "y = X_full.SalePrice\n",
    "X_full.drop(['SalePrice'], axis=1, inplace=True)\n",
    "\n",
    "# Break off validation set from training data\n",
    "X_train_full, X_valid_full, y_train, y_valid = train_test_split(X_full, y, \n",
    "                                                                train_size=0.8, test_size=0.2,\n",
    "                                                                random_state=0)\n",
    "\n",
    "# \"Cardinality\" means the number of unique values in a column\n",
    "# Select categorical columns with relatively low cardinality (convenient but arbitrary)\n",
    "categorical_cols = [cname for cname in X_train_full.columns if\n",
    "                    X_train_full[cname].nunique() < 10 and \n",
    "                    X_train_full[cname].dtype == \"object\"]\n",
    "\n",
    "# Select numerical columns\n",
    "numerical_cols = [cname for cname in X_train_full.columns if \n",
    "                X_train_full[cname].dtype in ['int64', 'float64']]\n",
    "\n",
    "# Keep selected columns only\n",
    "my_cols = categorical_cols + numerical_cols\n",
    "X_train = X_train_full[my_cols].copy()\n",
    "X_valid = X_valid_full[my_cols].copy()\n",
    "X_test = X_test_full[my_cols].copy()"
   ]
  },
  {
   "cell_type": "code",
   "execution_count": 2,
   "id": "9d295033",
   "metadata": {
    "execution": {
     "iopub.execute_input": "2021-11-25T11:35:51.654076Z",
     "iopub.status.busy": "2021-11-25T11:35:51.653118Z",
     "iopub.status.idle": "2021-11-25T11:35:51.678737Z",
     "shell.execute_reply": "2021-11-25T11:35:51.679201Z",
     "shell.execute_reply.started": "2021-11-25T11:31:21.387494Z"
    },
    "papermill": {
     "duration": 0.036255,
     "end_time": "2021-11-25T11:35:51.679393",
     "exception": false,
     "start_time": "2021-11-25T11:35:51.643138",
     "status": "completed"
    },
    "tags": []
   },
   "outputs": [
    {
     "data": {
      "text/html": [
       "<div>\n",
       "<style scoped>\n",
       "    .dataframe tbody tr th:only-of-type {\n",
       "        vertical-align: middle;\n",
       "    }\n",
       "\n",
       "    .dataframe tbody tr th {\n",
       "        vertical-align: top;\n",
       "    }\n",
       "\n",
       "    .dataframe thead th {\n",
       "        text-align: right;\n",
       "    }\n",
       "</style>\n",
       "<table border=\"1\" class=\"dataframe\">\n",
       "  <thead>\n",
       "    <tr style=\"text-align: right;\">\n",
       "      <th></th>\n",
       "      <th>MSZoning</th>\n",
       "      <th>Street</th>\n",
       "      <th>Alley</th>\n",
       "      <th>LotShape</th>\n",
       "      <th>LandContour</th>\n",
       "      <th>Utilities</th>\n",
       "      <th>LotConfig</th>\n",
       "      <th>LandSlope</th>\n",
       "      <th>Condition1</th>\n",
       "      <th>Condition2</th>\n",
       "      <th>...</th>\n",
       "      <th>GarageArea</th>\n",
       "      <th>WoodDeckSF</th>\n",
       "      <th>OpenPorchSF</th>\n",
       "      <th>EnclosedPorch</th>\n",
       "      <th>3SsnPorch</th>\n",
       "      <th>ScreenPorch</th>\n",
       "      <th>PoolArea</th>\n",
       "      <th>MiscVal</th>\n",
       "      <th>MoSold</th>\n",
       "      <th>YrSold</th>\n",
       "    </tr>\n",
       "    <tr>\n",
       "      <th>Id</th>\n",
       "      <th></th>\n",
       "      <th></th>\n",
       "      <th></th>\n",
       "      <th></th>\n",
       "      <th></th>\n",
       "      <th></th>\n",
       "      <th></th>\n",
       "      <th></th>\n",
       "      <th></th>\n",
       "      <th></th>\n",
       "      <th></th>\n",
       "      <th></th>\n",
       "      <th></th>\n",
       "      <th></th>\n",
       "      <th></th>\n",
       "      <th></th>\n",
       "      <th></th>\n",
       "      <th></th>\n",
       "      <th></th>\n",
       "      <th></th>\n",
       "      <th></th>\n",
       "    </tr>\n",
       "  </thead>\n",
       "  <tbody>\n",
       "    <tr>\n",
       "      <th>619</th>\n",
       "      <td>RL</td>\n",
       "      <td>Pave</td>\n",
       "      <td>NaN</td>\n",
       "      <td>Reg</td>\n",
       "      <td>Lvl</td>\n",
       "      <td>AllPub</td>\n",
       "      <td>Inside</td>\n",
       "      <td>Gtl</td>\n",
       "      <td>Norm</td>\n",
       "      <td>Norm</td>\n",
       "      <td>...</td>\n",
       "      <td>774</td>\n",
       "      <td>0</td>\n",
       "      <td>108</td>\n",
       "      <td>0</td>\n",
       "      <td>0</td>\n",
       "      <td>260</td>\n",
       "      <td>0</td>\n",
       "      <td>0</td>\n",
       "      <td>7</td>\n",
       "      <td>2007</td>\n",
       "    </tr>\n",
       "    <tr>\n",
       "      <th>871</th>\n",
       "      <td>RL</td>\n",
       "      <td>Pave</td>\n",
       "      <td>NaN</td>\n",
       "      <td>Reg</td>\n",
       "      <td>Lvl</td>\n",
       "      <td>AllPub</td>\n",
       "      <td>Inside</td>\n",
       "      <td>Gtl</td>\n",
       "      <td>PosN</td>\n",
       "      <td>Norm</td>\n",
       "      <td>...</td>\n",
       "      <td>308</td>\n",
       "      <td>0</td>\n",
       "      <td>0</td>\n",
       "      <td>0</td>\n",
       "      <td>0</td>\n",
       "      <td>0</td>\n",
       "      <td>0</td>\n",
       "      <td>0</td>\n",
       "      <td>8</td>\n",
       "      <td>2009</td>\n",
       "    </tr>\n",
       "    <tr>\n",
       "      <th>93</th>\n",
       "      <td>RL</td>\n",
       "      <td>Pave</td>\n",
       "      <td>Grvl</td>\n",
       "      <td>IR1</td>\n",
       "      <td>HLS</td>\n",
       "      <td>AllPub</td>\n",
       "      <td>Inside</td>\n",
       "      <td>Gtl</td>\n",
       "      <td>Norm</td>\n",
       "      <td>Norm</td>\n",
       "      <td>...</td>\n",
       "      <td>432</td>\n",
       "      <td>0</td>\n",
       "      <td>0</td>\n",
       "      <td>44</td>\n",
       "      <td>0</td>\n",
       "      <td>0</td>\n",
       "      <td>0</td>\n",
       "      <td>0</td>\n",
       "      <td>8</td>\n",
       "      <td>2009</td>\n",
       "    </tr>\n",
       "    <tr>\n",
       "      <th>818</th>\n",
       "      <td>RL</td>\n",
       "      <td>Pave</td>\n",
       "      <td>NaN</td>\n",
       "      <td>IR1</td>\n",
       "      <td>Lvl</td>\n",
       "      <td>AllPub</td>\n",
       "      <td>CulDSac</td>\n",
       "      <td>Gtl</td>\n",
       "      <td>Norm</td>\n",
       "      <td>Norm</td>\n",
       "      <td>...</td>\n",
       "      <td>857</td>\n",
       "      <td>150</td>\n",
       "      <td>59</td>\n",
       "      <td>0</td>\n",
       "      <td>0</td>\n",
       "      <td>0</td>\n",
       "      <td>0</td>\n",
       "      <td>0</td>\n",
       "      <td>7</td>\n",
       "      <td>2008</td>\n",
       "    </tr>\n",
       "    <tr>\n",
       "      <th>303</th>\n",
       "      <td>RL</td>\n",
       "      <td>Pave</td>\n",
       "      <td>NaN</td>\n",
       "      <td>IR1</td>\n",
       "      <td>Lvl</td>\n",
       "      <td>AllPub</td>\n",
       "      <td>Corner</td>\n",
       "      <td>Gtl</td>\n",
       "      <td>Norm</td>\n",
       "      <td>Norm</td>\n",
       "      <td>...</td>\n",
       "      <td>843</td>\n",
       "      <td>468</td>\n",
       "      <td>81</td>\n",
       "      <td>0</td>\n",
       "      <td>0</td>\n",
       "      <td>0</td>\n",
       "      <td>0</td>\n",
       "      <td>0</td>\n",
       "      <td>1</td>\n",
       "      <td>2006</td>\n",
       "    </tr>\n",
       "  </tbody>\n",
       "</table>\n",
       "<p>5 rows × 76 columns</p>\n",
       "</div>"
      ],
      "text/plain": [
       "    MSZoning Street Alley LotShape LandContour Utilities LotConfig LandSlope  \\\n",
       "Id                                                                             \n",
       "619       RL   Pave   NaN      Reg         Lvl    AllPub    Inside       Gtl   \n",
       "871       RL   Pave   NaN      Reg         Lvl    AllPub    Inside       Gtl   \n",
       "93        RL   Pave  Grvl      IR1         HLS    AllPub    Inside       Gtl   \n",
       "818       RL   Pave   NaN      IR1         Lvl    AllPub   CulDSac       Gtl   \n",
       "303       RL   Pave   NaN      IR1         Lvl    AllPub    Corner       Gtl   \n",
       "\n",
       "    Condition1 Condition2  ... GarageArea WoodDeckSF OpenPorchSF  \\\n",
       "Id                         ...                                     \n",
       "619       Norm       Norm  ...        774          0         108   \n",
       "871       PosN       Norm  ...        308          0           0   \n",
       "93        Norm       Norm  ...        432          0           0   \n",
       "818       Norm       Norm  ...        857        150          59   \n",
       "303       Norm       Norm  ...        843        468          81   \n",
       "\n",
       "    EnclosedPorch 3SsnPorch ScreenPorch PoolArea MiscVal MoSold YrSold  \n",
       "Id                                                                      \n",
       "619             0         0         260        0       0      7   2007  \n",
       "871             0         0           0        0       0      8   2009  \n",
       "93             44         0           0        0       0      8   2009  \n",
       "818             0         0           0        0       0      7   2008  \n",
       "303             0         0           0        0       0      1   2006  \n",
       "\n",
       "[5 rows x 76 columns]"
      ]
     },
     "execution_count": 2,
     "metadata": {},
     "output_type": "execute_result"
    }
   ],
   "source": [
    "X_train.head()"
   ]
  },
  {
   "cell_type": "markdown",
   "id": "d6d209b3",
   "metadata": {
    "papermill": {
     "duration": 0.007276,
     "end_time": "2021-11-25T11:35:51.696581",
     "exception": false,
     "start_time": "2021-11-25T11:35:51.689305",
     "status": "completed"
    },
    "tags": []
   },
   "source": [
    "# Preprocessing the data and defining a model"
   ]
  },
  {
   "cell_type": "code",
   "execution_count": 3,
   "id": "b0b1c341",
   "metadata": {
    "execution": {
     "iopub.execute_input": "2021-11-25T11:35:51.719052Z",
     "iopub.status.busy": "2021-11-25T11:35:51.718411Z",
     "iopub.status.idle": "2021-11-25T11:35:52.065232Z",
     "shell.execute_reply": "2021-11-25T11:35:52.065806Z",
     "shell.execute_reply.started": "2021-11-25T11:32:22.490148Z"
    },
    "papermill": {
     "duration": 0.361277,
     "end_time": "2021-11-25T11:35:52.066028",
     "exception": false,
     "start_time": "2021-11-25T11:35:51.704751",
     "status": "completed"
    },
    "tags": []
   },
   "outputs": [],
   "source": [
    "from sklearn.compose import ColumnTransformer\n",
    "from sklearn.pipeline import Pipeline\n",
    "from sklearn.impute import SimpleImputer\n",
    "from sklearn.preprocessing import OneHotEncoder\n",
    "from sklearn.ensemble import RandomForestRegressor\n",
    "from sklearn.metrics import mean_absolute_error\n",
    "\n",
    "# Preprocessing for numerical data\n",
    "numerical_transformer = SimpleImputer(strategy='constant')\n",
    "\n",
    "# Preprocessing for categorical data\n",
    "#from sklearn.preprocessing import OrdinalEncoder\n",
    "categorical_transformer = Pipeline(steps=[('impute',SimpleImputer(strategy='constant')),('OH_encoder', OneHotEncoder(handle_unknown='ignore'))])# Your code here\n",
    "\n",
    "# Bundle preprocessing for numerical and categorical data\n",
    "preprocessor = ColumnTransformer(\n",
    "    transformers=[\n",
    "        ('num', numerical_transformer, numerical_cols),\n",
    "        ('cat', categorical_transformer, categorical_cols)\n",
    "    ])\n",
    "\n",
    "# Define model\n",
    "model = RandomForestRegressor(n_estimators=110,random_state=0)\n"
   ]
  },
  {
   "cell_type": "markdown",
   "id": "3cb9ad21",
   "metadata": {
    "papermill": {
     "duration": 0.007675,
     "end_time": "2021-11-25T11:35:52.082425",
     "exception": false,
     "start_time": "2021-11-25T11:35:52.074750",
     "status": "completed"
    },
    "tags": []
   },
   "source": [
    "Having defined a pipeline, we'll now fit our model and evaluate"
   ]
  },
  {
   "cell_type": "code",
   "execution_count": 4,
   "id": "7308f89b",
   "metadata": {
    "execution": {
     "iopub.execute_input": "2021-11-25T11:35:52.102138Z",
     "iopub.status.busy": "2021-11-25T11:35:52.101469Z",
     "iopub.status.idle": "2021-11-25T11:35:55.081316Z",
     "shell.execute_reply": "2021-11-25T11:35:55.080798Z",
     "shell.execute_reply.started": "2021-11-25T11:32:28.182990Z"
    },
    "papermill": {
     "duration": 2.990931,
     "end_time": "2021-11-25T11:35:55.081479",
     "exception": false,
     "start_time": "2021-11-25T11:35:52.090548",
     "status": "completed"
    },
    "tags": []
   },
   "outputs": [
    {
     "name": "stdout",
     "output_type": "stream",
     "text": [
      "MAE: 17509.434651307594\n"
     ]
    }
   ],
   "source": [
    "# Bundle preprocessing and modeling code in a pipeline\n",
    "my_pipeline = Pipeline(steps=[('preprocessor', preprocessor),\n",
    "                              ('model', model)\n",
    "                             ])\n",
    "\n",
    "# Preprocessing of training data, fit model \n",
    "my_pipeline.fit(X_train, y_train)\n",
    "\n",
    "# Preprocessing of validation data, get predictions\n",
    "preds = my_pipeline.predict(X_valid)\n",
    "\n",
    "# Evaluate the model\n",
    "score = mean_absolute_error(y_valid, preds)\n",
    "print('MAE:', score)\n"
   ]
  },
  {
   "cell_type": "markdown",
   "id": "d23749d8",
   "metadata": {
    "papermill": {
     "duration": 0.007439,
     "end_time": "2021-11-25T11:35:55.096984",
     "exception": false,
     "start_time": "2021-11-25T11:35:55.089545",
     "status": "completed"
    },
    "tags": []
   },
   "source": [
    "# Generate test predictions\n",
    "\n",
    "Now, we'll use your trained model to generate predictions with the test data."
   ]
  },
  {
   "cell_type": "code",
   "execution_count": 5,
   "id": "e18a4e71",
   "metadata": {
    "execution": {
     "iopub.execute_input": "2021-11-25T11:35:55.120205Z",
     "iopub.status.busy": "2021-11-25T11:35:55.119586Z",
     "iopub.status.idle": "2021-11-25T11:35:55.185988Z",
     "shell.execute_reply": "2021-11-25T11:35:55.185410Z",
     "shell.execute_reply.started": "2021-11-25T11:32:38.903817Z"
    },
    "papermill": {
     "duration": 0.081385,
     "end_time": "2021-11-25T11:35:55.186138",
     "exception": false,
     "start_time": "2021-11-25T11:35:55.104753",
     "status": "completed"
    },
    "tags": []
   },
   "outputs": [],
   "source": [
    "# Preprocessing of test data, fit model\n",
    "preds_test = my_pipeline.predict(X_test)\n"
   ]
  },
  {
   "cell_type": "markdown",
   "id": "a97b4e5f",
   "metadata": {
    "papermill": {
     "duration": 0.007832,
     "end_time": "2021-11-25T11:35:55.202206",
     "exception": false,
     "start_time": "2021-11-25T11:35:55.194374",
     "status": "completed"
    },
    "tags": []
   },
   "source": [
    "Save our results to a CSV file."
   ]
  },
  {
   "cell_type": "code",
   "execution_count": 6,
   "id": "d565879a",
   "metadata": {
    "execution": {
     "iopub.execute_input": "2021-11-25T11:35:55.225302Z",
     "iopub.status.busy": "2021-11-25T11:35:55.224221Z",
     "iopub.status.idle": "2021-11-25T11:35:55.233838Z",
     "shell.execute_reply": "2021-11-25T11:35:55.233187Z",
     "shell.execute_reply.started": "2021-11-25T11:35:06.514685Z"
    },
    "papermill": {
     "duration": 0.023612,
     "end_time": "2021-11-25T11:35:55.233977",
     "exception": false,
     "start_time": "2021-11-25T11:35:55.210365",
     "status": "completed"
    },
    "tags": []
   },
   "outputs": [],
   "source": [
    "# Save test predictions to file\n",
    "output = pd.DataFrame({'Id': X_test.index,\n",
    "                       'SalePrice': preds_test})\n",
    "output.to_csv('submission.csv', index=False)"
   ]
  },
  {
   "cell_type": "markdown",
   "id": "1daea196",
   "metadata": {
    "papermill": {
     "duration": 0.007635,
     "end_time": "2021-11-25T11:35:55.249556",
     "exception": false,
     "start_time": "2021-11-25T11:35:55.241921",
     "status": "completed"
    },
    "tags": []
   },
   "source": [
    "---\n",
    "\n",
    "\n",
    "\n",
    "\n",
    "*Have questions or comments? Visit the [Learn Discussion forum](https://www.kaggle.com/learn-forum/161289) to chat with other Learners.*"
   ]
  }
 ],
 "metadata": {
  "kernelspec": {
   "display_name": "Python 3",
   "language": "python",
   "name": "python3"
  },
  "language_info": {
   "codemirror_mode": {
    "name": "ipython",
    "version": 3
   },
   "file_extension": ".py",
   "mimetype": "text/x-python",
   "name": "python",
   "nbconvert_exporter": "python",
   "pygments_lexer": "ipython3",
   "version": "3.7.10"
  },
  "papermill": {
   "default_parameters": {},
   "duration": 14.705957,
   "end_time": "2021-11-25T11:35:55.967743",
   "environment_variables": {},
   "exception": null,
   "input_path": "__notebook__.ipynb",
   "output_path": "__notebook__.ipynb",
   "parameters": {},
   "start_time": "2021-11-25T11:35:41.261786",
   "version": "2.3.3"
  }
 },
 "nbformat": 4,
 "nbformat_minor": 5
}
